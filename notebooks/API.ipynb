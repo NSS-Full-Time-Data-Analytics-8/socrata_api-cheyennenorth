{
 "cells": [
  {
   "cell_type": "code",
   "execution_count": null,
   "id": "59afd676",
   "metadata": {
    "scrolled": true
   },
   "outputs": [],
   "source": [
    "import requests\n",
    "import pandas as pd\n",
    "import matplotlib.pyplot as plt\n",
    "\n",
    "%matplotlib inline\n",
    "\n"
   ]
  },
  {
   "cell_type": "code",
   "execution_count": null,
   "id": "db87cdd4",
   "metadata": {},
   "outputs": [],
   "source": [
    "endpoint1 = 'https://data.nashville.gov/resource/fuaa-r5cm.json?year=2016&query_text=fire'\n",
    "\n",
    "request = requests.get(endpoint1)"
   ]
  },
  {
   "cell_type": "markdown",
   "id": "da629900",
   "metadata": {},
   "source": [
    "request = "
   ]
  },
  {
   "cell_type": "code",
   "execution_count": null,
   "id": "822529ae",
   "metadata": {},
   "outputs": [],
   "source": [
    "request"
   ]
  },
  {
   "cell_type": "markdown",
   "id": "42e3db75",
   "metadata": {},
   "source": [
    "1. Make an API request that returns the months where \"fire\" was searched in 2016. Which month had the most searches?  "
   ]
  },
  {
   "cell_type": "code",
   "execution_count": null,
   "id": "81ee2fd5",
   "metadata": {
    "scrolled": true
   },
   "outputs": [],
   "source": [
    "request.text"
   ]
  },
  {
   "cell_type": "code",
   "execution_count": null,
   "id": "c6438c99",
   "metadata": {},
   "outputs": [],
   "source": [
    "fires = request.json()"
   ]
  },
  {
   "cell_type": "code",
   "execution_count": null,
   "id": "49ae4d2c",
   "metadata": {
    "scrolled": false
   },
   "outputs": [],
   "source": [
    "fires"
   ]
  },
  {
   "cell_type": "code",
   "execution_count": null,
   "id": "5824c99c",
   "metadata": {},
   "outputs": [],
   "source": [
    "fires_df = pd.DataFrame(fires)"
   ]
  },
  {
   "cell_type": "code",
   "execution_count": null,
   "id": "c9c6275e",
   "metadata": {
    "scrolled": true
   },
   "outputs": [],
   "source": [
    "fires_df"
   ]
  },
  {
   "cell_type": "code",
   "execution_count": null,
   "id": "6976297b",
   "metadata": {},
   "outputs": [],
   "source": [
    "fires_df.sort_values(by= 'query_count', ascending = False)"
   ]
  },
  {
   "cell_type": "markdown",
   "id": "6fbfc262",
   "metadata": {},
   "source": [
    "2. Make an API request that returns all the times a query was run more than 100 times in a month. How many times did this occur?  "
   ]
  },
  {
   "cell_type": "code",
   "execution_count": null,
   "id": "4e7177c1",
   "metadata": {},
   "outputs": [],
   "source": [
    "endpoint = 'https://data.nashville.gov/resource/fuaa-r5cm.json?$limit=50000&$where=query_count > 100'\n"
   ]
  },
  {
   "cell_type": "code",
   "execution_count": null,
   "id": "61856e05",
   "metadata": {},
   "outputs": [],
   "source": [
    "response = requests.get(endpoint)\n",
    "response"
   ]
  },
  {
   "cell_type": "code",
   "execution_count": null,
   "id": "c8fa3ed0",
   "metadata": {
    "scrolled": true
   },
   "outputs": [],
   "source": [
    "q2 = response.json()\n",
    "q2"
   ]
  },
  {
   "cell_type": "code",
   "execution_count": null,
   "id": "b205efce",
   "metadata": {},
   "outputs": [],
   "source": [
    "q2_df = pd.DataFrame(q2)\n",
    "q2_df\n",
    "    "
   ]
  },
  {
   "cell_type": "code",
   "execution_count": null,
   "id": "ba62c53c",
   "metadata": {},
   "outputs": [],
   "source": [
    "q2_df.drop('month', axis=1, inplace=True)"
   ]
  },
  {
   "cell_type": "code",
   "execution_count": null,
   "id": "d167c074",
   "metadata": {},
   "outputs": [],
   "source": [
    "q2_df"
   ]
  },
  {
   "cell_type": "code",
   "execution_count": null,
   "id": "396304fa",
   "metadata": {},
   "outputs": [],
   "source": [
    "q2_df.value_counts('month_name')"
   ]
  },
  {
   "cell_type": "markdown",
   "id": "908f1c17",
   "metadata": {},
   "source": [
    "3. Make another API request that returns all the times \"codes\" was searched more than 100 times in a month. How many times did this occur?  "
   ]
  },
  {
   "cell_type": "code",
   "execution_count": null,
   "id": "7323a744",
   "metadata": {},
   "outputs": [],
   "source": [
    "endpoint = 'https://data.nashville.gov/resource/fuaa-r5cm.json?query_text=codes&$where=query_count>100'"
   ]
  },
  {
   "cell_type": "code",
   "execution_count": null,
   "id": "eb99046b",
   "metadata": {},
   "outputs": [],
   "source": [
    "respond2 = requests.get(endpoint)\n",
    "respond2"
   ]
  },
  {
   "cell_type": "code",
   "execution_count": null,
   "id": "512f16f0",
   "metadata": {},
   "outputs": [],
   "source": [
    "q3 = respond2.json()\n",
    "q3"
   ]
  },
  {
   "cell_type": "code",
   "execution_count": null,
   "id": "f3f069ed",
   "metadata": {},
   "outputs": [],
   "source": [
    "q3_df = pd.DataFrame(q3)\n",
    "q3_df.head()"
   ]
  },
  {
   "cell_type": "code",
   "execution_count": null,
   "id": "da689ec1",
   "metadata": {},
   "outputs": [],
   "source": [
    "print('Querty text code searched more than 100 times by month')\n",
    "codes_100 = q3_df.value_counts('month_name')\n",
    "codes_100\n"
   ]
  },
  {
   "cell_type": "markdown",
   "id": "d37aafbe",
   "metadata": {},
   "source": [
    "Make an API request that returns the entire Top 500 Monthly Searches dataset. Make a chart that shows the number of times \"maps\" was searched in a month across the entire time frame."
   ]
  },
  {
   "cell_type": "code",
   "execution_count": null,
   "id": "6348cdda",
   "metadata": {},
   "outputs": [],
   "source": [
    "endpoint = 'https://data.nashville.gov/resource/fuaa-r5cm.json'"
   ]
  },
  {
   "cell_type": "code",
   "execution_count": null,
   "id": "f8aad72d",
   "metadata": {},
   "outputs": [],
   "source": [
    "params = {'$limit':50000, 'query_text':'maps'}"
   ]
  },
  {
   "cell_type": "code",
   "execution_count": null,
   "id": "f815074e",
   "metadata": {},
   "outputs": [],
   "source": [
    "response3 = requests.get(endpoint, params = params)\n",
    "response3"
   ]
  },
  {
   "cell_type": "code",
   "execution_count": null,
   "id": "47fb8a8c",
   "metadata": {},
   "outputs": [],
   "source": [
    "q4 = response3.json()\n",
    "len(q4)"
   ]
  },
  {
   "cell_type": "code",
   "execution_count": null,
   "id": "ee1bf086",
   "metadata": {
    "scrolled": true
   },
   "outputs": [],
   "source": [
    "q4_df = pd.DataFrame(q4)\n",
    "q4_df.drop('month', axis=1, inplace=True)\n",
    "q4_df"
   ]
  },
  {
   "cell_type": "code",
   "execution_count": null,
   "id": "aa5d6214",
   "metadata": {},
   "outputs": [],
   "source": [
    "q4_df[.dtypes]"
   ]
  },
  {
   "cell_type": "code",
   "execution_count": null,
   "id": "dfffd4b4",
   "metadata": {},
   "outputs": [],
   "source": []
  }
 ],
 "metadata": {
  "kernelspec": {
   "display_name": "Python 3 (ipykernel)",
   "language": "python",
   "name": "python3"
  },
  "language_info": {
   "codemirror_mode": {
    "name": "ipython",
    "version": 3
   },
   "file_extension": ".py",
   "mimetype": "text/x-python",
   "name": "python",
   "nbconvert_exporter": "python",
   "pygments_lexer": "ipython3",
   "version": "3.9.13"
  }
 },
 "nbformat": 4,
 "nbformat_minor": 5
}
